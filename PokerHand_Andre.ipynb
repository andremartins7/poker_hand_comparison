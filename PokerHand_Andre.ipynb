{
  "nbformat": 4,
  "nbformat_minor": 0,
  "metadata": {
    "colab": {
      "name": "PokerHand_Andre.ipynb",
      "provenance": [],
      "authorship_tag": "ABX9TyMTYsDglrqY2bUScZUBsPGh",
      "include_colab_link": true
    },
    "kernelspec": {
      "name": "python3",
      "display_name": "Python 3"
    },
    "language_info": {
      "name": "python"
    }
  },
  "cells": [
    {
      "cell_type": "markdown",
      "metadata": {
        "id": "view-in-github",
        "colab_type": "text"
      },
      "source": [
        "<a href=\"https://colab.research.google.com/github/andremartins7/poker_hand_comparison/blob/main/PokerHand_Andre.ipynb\" target=\"_parent\"><img src=\"https://colab.research.google.com/assets/colab-badge.svg\" alt=\"Open In Colab\"/></a>"
      ]
    },
    {
      "cell_type": "markdown",
      "source": [
        "Este Notebook explora o desenvolvimento de um algoritmo para comparar duas mãos de pôquer de 5 cartas, para determinar qual é a mão vencedora. Possui um construtor que aceita uma String contendo 5 cartas."
      ],
      "metadata": {
        "id": "67ckt8dRV0QD"
      }
    },
    {
      "cell_type": "code",
      "source": [
        "# mãos de teste em ordem crescente\n",
        "# matriz de strings onde cada string é uma carta (valor e naipe)\n",
        "test_hands = [\n",
        "    [\"AC\", \"5C\", \"10C\", \"7C\", \"3S\"],\n",
        "    [\"2C\", \"3D\", \"4S\", \"5H\", \"2D\"],\n",
        "    [\"2C\", \"3D\", \"4S\", \"3H\", \"2D\"],\n",
        "    [\"5S\", \"4C\", \"AD\", \"4S\", \"4H\"],\n",
        "    [\"3H\", \"7H\", \"6S\", \"4D\", \"5S\"],\n",
        "    [\"AC\", \"5C\", \"10C\", \"7C\", \"3C\"],\n",
        "    [\"5C\", \"8D\", \"5H\", \"8S\", \"8H\"],\n",
        "    [\"3D\", \"7H\", \"7S\", \"7C\", \"7D\"],\n",
        "    [\"AS\", \"10S\", \"QS\", \"KS\", \"JS\"],\n",
        "]"
      ],
      "metadata": {
        "id": "V1GYBcSGXm3X"
      },
      "execution_count": null,
      "outputs": []
    },
    {
      "cell_type": "code",
      "source": [
        "# função que recebe uma carta e retorna o seu naipe\n",
        "def suit(card):\n",
        "  return card[-1]"
      ],
      "metadata": {
        "id": "rYucGZcwXoz0"
      },
      "execution_count": null,
      "outputs": []
    },
    {
      "cell_type": "code",
      "source": [
        "# testando a função suit\n",
        "suit(\"AC\")"
      ],
      "metadata": {
        "id": "C8IC6ePYXsIQ"
      },
      "execution_count": null,
      "outputs": []
    },
    {
      "cell_type": "code",
      "source": [
        "# testando a função suit\n",
        "suit(\"10D\")"
      ],
      "metadata": {
        "id": "dc9CYPQucXUO"
      },
      "execution_count": null,
      "outputs": []
    },
    {
      "cell_type": "code",
      "source": [
        "# função para obter as cartas e retornar os seus valores\n",
        "def value(card):\n",
        "  if card[0] == \"A\":\n",
        "    return 14\n",
        "  if card[0] == \"J\":\n",
        "    return 11\n",
        "  if card[0] == \"Q\":\n",
        "    return 12\n",
        "  if card[0] == \"K\":\n",
        "    return 13\n",
        "  if card[0] == \"T\":\n",
        "    return 10\n",
        "  return int(card[0:-1])"
      ],
      "metadata": {
        "id": "hLOwgsaIccti"
      },
      "execution_count": null,
      "outputs": []
    },
    {
      "cell_type": "code",
      "source": [
        "# testando a função value\n",
        "value(\"AC\")"
      ],
      "metadata": {
        "id": "UWG7LhRUtxuS"
      },
      "execution_count": null,
      "outputs": []
    },
    {
      "cell_type": "code",
      "source": [
        "# testando a função value\n",
        "value(\"10D\")"
      ],
      "metadata": {
        "id": "CcdAc4VSt5bP"
      },
      "execution_count": null,
      "outputs": []
    },
    {
      "cell_type": "code",
      "source": [
        "# determinar se é um flush ou casos especiais\n",
        "# verifica se todas as cartas menos a primeira são do mesmo naipe\n",
        "def is_flush(cards):\n",
        "  return all([suit(card) == suit(cards[0]) for card in cards[1:]])"
      ],
      "metadata": {
        "id": "7SQOn-MfuVCF"
      },
      "execution_count": null,
      "outputs": []
    },
    {
      "cell_type": "code",
      "source": [
        "# testando a função is_flush\n",
        "[is_flush(hand) for hand in test_hands]"
      ],
      "metadata": {
        "id": "hqzyrWCow4Mq"
      },
      "execution_count": null,
      "outputs": []
    },
    {
      "cell_type": "code",
      "source": [
        "# distribuição de mãos das cartas usando dicionário\n",
        "def hand_dist(cards):\n",
        "  dist = {i:0 for i in range(1, 15)}\n",
        "  for card in cards:\n",
        "    dist[value(card)] += 1\n",
        "  dist[1] = dist[14]\n",
        "  return dist"
      ],
      "metadata": {
        "id": "TB3jj172yfjj"
      },
      "execution_count": null,
      "outputs": []
    },
    {
      "cell_type": "code",
      "source": [
        "# testando a função hand_dist\n",
        "[hand_dist(hand) for hand in test_hands]"
      ],
      "metadata": {
        "id": "H45OxfivFu1z"
      },
      "execution_count": null,
      "outputs": []
    },
    {
      "cell_type": "code",
      "source": [
        "# função que retorna o valor mais alto se for uma sequência\n",
        "def straight_high_card(cards):\n",
        "  dist = hand_dist(cards)\n",
        "  for value in range(1, 11):\n",
        "    if all([dist[value + k] == 1 for k in range(5)]):\n",
        "      return value + 4\n",
        "      \n",
        "  return None"
      ],
      "metadata": {
        "id": "jX_EC47TF7EZ"
      },
      "execution_count": null,
      "outputs": []
    },
    {
      "cell_type": "code",
      "source": [
        "# testando a função straight_high_card\n",
        "[straight_high_card(hand) for hand in test_hands]"
      ],
      "metadata": {
        "id": "32SISyuVF_cI"
      },
      "execution_count": null,
      "outputs": []
    },
    {
      "cell_type": "code",
      "source": [
        "# função que conta o número de cartas\n",
        "def card_count(cards, num, but=None):\n",
        "  dist = hand_dist(cards)\n",
        "  for value in range(2, 15):\n",
        "    if value == but:\n",
        "      continue\n",
        "    if dist[value] == num:\n",
        "      return value\n",
        "  return None"
      ],
      "metadata": {
        "id": "DCc5C4xLGTHj"
      },
      "execution_count": null,
      "outputs": []
    },
    {
      "cell_type": "code",
      "source": [
        "# testando a função card_count\n",
        "[card_count(hand, 2, 2) for hand in test_hands]"
      ],
      "metadata": {
        "id": "XxjZU53z1Plh"
      },
      "execution_count": null,
      "outputs": []
    },
    {
      "cell_type": "code",
      "source": [
        "# classificação de mão para um conjunto de cartas\n",
        "def hand_rank(cards):\n",
        "  if straight_high_card(cards) is not None and is_flush(cards):\n",
        "    return 8\n",
        "  if card_count(cards, 4) is not None:\n",
        "    return 7\n",
        "  if card_count(cards, 3) is not None and card_count(cards, 2) is not None:\n",
        "    return 6\n",
        "  if is_flush(cards):\n",
        "    return 5\n",
        "  if straight_high_card(cards) is not None:\n",
        "    return 4\n",
        "  if card_count(cards, 3) is not None:\n",
        "    return 3\n",
        "  pair1 = card_count(cards, 2)\n",
        "  if pair1 is not None:\n",
        "    if card_count(cards, 2, but=pair1) is not None:\n",
        "      return 2\n",
        "    return 1\n",
        "  return 0"
      ],
      "metadata": {
        "id": "yuijaaG61tbZ"
      },
      "execution_count": null,
      "outputs": []
    },
    {
      "cell_type": "code",
      "source": [
        "# teste da função de classificação de mão\n",
        "[hand_rank(hand) for hand in test_hands]"
      ],
      "metadata": {
        "id": "2bfRJIwx11RD"
      },
      "execution_count": null,
      "outputs": []
    },
    {
      "cell_type": "code",
      "source": [
        "# função de comparação entre duas mãos\n",
        "def compare_hands(hand1, hand2):\n",
        "  r1 = hand_rank(hand1)\n",
        "  r2 = hand_rank(hand2)\n",
        "  if r1 < r2:\n",
        "    return -1\n",
        "  if r1 > r2:\n",
        "    return 1\n",
        "  # Precisa adicionar teste para high cards - desempate\n",
        "  return 0"
      ],
      "metadata": {
        "id": "-UuIbLN5O446"
      },
      "execution_count": null,
      "outputs": []
    },
    {
      "cell_type": "code",
      "source": [
        "# teste da função de comparação\n",
        "compare_hands(test_hands[4], test_hands[4])"
      ],
      "metadata": {
        "id": "VNuy1BwsUKnc"
      },
      "execution_count": null,
      "outputs": []
    },
    {
      "cell_type": "code",
      "source": [
        "# função para embaralhar as cartas\n",
        "def make_deck():\n",
        "  deck = []\n",
        "  for suit in (\"D\", \"C\", \"H\", \"S\"):\n",
        "    for value in range(2, 15):\n",
        "      if value < 11:\n",
        "        value_string = str(value)\n",
        "      else:\n",
        "        value_string = (\"J\", \"Q\", \"K\", \"A\", \"T\")[value - 10]\n",
        "      deck.append(value_string + suit)\n",
        "  return deck"
      ],
      "metadata": {
        "id": "MGL_EAxBVnR3"
      },
      "execution_count": null,
      "outputs": []
    },
    {
      "cell_type": "code",
      "source": [
        "# verifica se existem 52 cartas no baralho\n",
        "len(make_deck())"
      ],
      "metadata": {
        "id": "sODSZvWmWuCl"
      },
      "execution_count": null,
      "outputs": []
    },
    {
      "cell_type": "code",
      "source": [
        "# importando a biblioteca randomica\n",
        "import random"
      ],
      "metadata": {
        "id": "jthRAtKxXTiI"
      },
      "execution_count": null,
      "outputs": []
    },
    {
      "cell_type": "code",
      "source": [
        "# cria um baralho embaralhado aleatoriamente\n",
        "def shuffled_deck():\n",
        "  deck = make_deck()\n",
        "  random.shuffle(deck)\n",
        "  return deck"
      ],
      "metadata": {
        "id": "X-5WNamiXUM3"
      },
      "execution_count": null,
      "outputs": []
    },
    {
      "cell_type": "code",
      "source": [
        "# testando o embaralhamento\n",
        "shuffled_deck()"
      ],
      "metadata": {
        "id": "LpgCZqRgYfWd"
      },
      "execution_count": null,
      "outputs": []
    },
    {
      "cell_type": "code",
      "source": [
        "# função para distribuir as cartas\n",
        "def deal(deck, n):\n",
        "  hand = deck[0:n]\n",
        "  del deck[0:n]\n",
        "  return hand"
      ],
      "metadata": {
        "id": "FO44inQgY0f3"
      },
      "execution_count": null,
      "outputs": []
    },
    {
      "cell_type": "code",
      "source": [
        "# gera um baralho igual ao embaralhado\n",
        "deck = shuffled_deck()\n",
        "deck"
      ],
      "metadata": {
        "id": "4nUkF9emZMVg"
      },
      "execution_count": null,
      "outputs": []
    },
    {
      "cell_type": "code",
      "source": [
        "# baralho com cinco primeiras cartas\n",
        "deal(deck, 5)"
      ],
      "metadata": {
        "id": "VVUhxhVqZbUx"
      },
      "execution_count": null,
      "outputs": []
    },
    {
      "cell_type": "code",
      "source": [
        "# teste que verifica quantas cartas restam no baralho\n",
        "len(deck)"
      ],
      "metadata": {
        "id": "hBGQQWUjZcsn"
      },
      "execution_count": null,
      "outputs": []
    },
    {
      "cell_type": "code",
      "source": [
        "# teste que verifica quais as cartas que restam no baralho\n",
        "deck"
      ],
      "metadata": {
        "id": "nbAPD6Akakxi"
      },
      "execution_count": null,
      "outputs": []
    },
    {
      "cell_type": "code",
      "source": [
        "# classifica por nomes\n",
        "rank_names = [\"high card\", \"pair\", \"two pair\", \"three of a kind\", \"straight\", \n",
        "              \"flush\", \"full house\", \"four of a kind\", \"straight flush\"]"
      ],
      "metadata": {
        "id": "l9VkhGNWa9tF"
      },
      "execution_count": null,
      "outputs": []
    },
    {
      "cell_type": "code",
      "source": [
        "# função de comparação entre as duas mãos\n",
        "def show_compare_hands(hand1, hand2):\n",
        "  sgn = compare_hands(hand1, hand2)\n",
        "  result = (\"loses to\", \"ties\", \"beats\")[sgn + 1]\n",
        "  print(f'{hand1} {result} {hand2}')\n",
        "  r1 = hand_rank(hand1)\n",
        "  r2 = hand_rank(hand2)\n",
        "  print(f'{rank_names[r1]} {result} {rank_names[r2]}')"
      ],
      "metadata": {
        "id": "LObiWa_abB4L"
      },
      "execution_count": null,
      "outputs": []
    },
    {
      "cell_type": "code",
      "source": [
        "# pega as duas mãos com o baralho de cinco cartas\n",
        "hand1 = deal(deck, 5)\n",
        "hand2 = deal(deck, 5)"
      ],
      "metadata": {
        "id": "JVpuPzhEcReX"
      },
      "execution_count": null,
      "outputs": []
    },
    {
      "cell_type": "code",
      "source": [
        "hand1"
      ],
      "metadata": {
        "id": "ZPh6TgKec6F6"
      },
      "execution_count": null,
      "outputs": []
    },
    {
      "cell_type": "code",
      "source": [
        "hand2"
      ],
      "metadata": {
        "id": "zi6NwGfpc8t_"
      },
      "execution_count": null,
      "outputs": []
    },
    {
      "cell_type": "code",
      "source": [
        "# compara as duas mãos\n",
        "show_compare_hands(hand1, hand2)"
      ],
      "metadata": {
        "id": "GnTk4YbRdPMh"
      },
      "execution_count": null,
      "outputs": []
    },
    {
      "cell_type": "code",
      "source": [
        "# gera casos de testes aleatórios\n",
        "def test_random_hands(n=20):\n",
        "  for i in range(n):\n",
        "    deck = shuffled_deck()\n",
        "    show_compare_hands(deal(deck, 5), deal(deck, 5))"
      ],
      "metadata": {
        "id": "IsUBEF8bdiDo"
      },
      "execution_count": null,
      "outputs": []
    },
    {
      "cell_type": "code",
      "source": [
        "# visualiza os testes\n",
        "test_random_hands()"
      ],
      "metadata": {
        "id": "BEj3GYZkdoNb"
      },
      "execution_count": null,
      "outputs": []
    }
  ]
}